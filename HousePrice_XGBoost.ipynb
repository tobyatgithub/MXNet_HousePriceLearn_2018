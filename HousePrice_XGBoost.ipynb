{
 "cells": [
  {
   "cell_type": "code",
   "execution_count": 1,
   "metadata": {
    "collapsed": true
   },
   "outputs": [],
   "source": [
    "\"\"\"\n",
    "4-21-2018: try on the outlier-cleaned dataset\n",
    "training&valid best 0.9221654742823935\n",
    "Kaggle improved from 1614 -> 1202 (with log rsme score = 0.12567)\n",
    "It seems removing outlier definitely helps, but not that much given we don't have that many outliers\n",
    "\n",
    "4-previous-2018:\n",
    "notice, first edition commented## beacuse of problem of dummy processing---\n",
    "i.e. testing dataset is smaller than training dataset, when apply pd.dummy onto it,\n",
    "the result testing df has fewer columns than result training df.\n",
    "\n",
    "a better solution will be using pd.concat as shown in all_X:\n",
    "\"\"\"\n",
    "\n",
    "\n",
    "import pandas as pd\n",
    "import numpy as np\n",
    "import os\n",
    "\n",
    "%matplotlib inline\n",
    "import matplotlib.pyplot as plt  # Matlab-style plotting\n",
    "import seaborn as sns\n",
    "from scipy import stats\n",
    "from scipy.stats import norm, skew #for some statistics\n"
   ]
  },
  {
   "cell_type": "code",
   "execution_count": 2,
   "metadata": {
    "collapsed": true
   },
   "outputs": [],
   "source": [
    "dirctory = os.getcwd()\n",
    "\n",
    "#train = pd.read_csv(str(dirctory)+\"/kaggle_house_pred_train.csv\")\n",
    "train = pd.read_csv(str(dirctory)+\"/train1.csv\") #outlier cleaned one\n",
    "test = pd.read_csv(str(dirctory)+\"/kaggle_house_pred_test.csv\")\n",
    "all_X = pd.concat((train.loc[:, 'MSSubClass':'SaleCondition'],\n",
    "                      test.loc[:, 'MSSubClass':'SaleCondition']))"
   ]
  },
  {
   "cell_type": "code",
   "execution_count": 3,
   "metadata": {},
   "outputs": [
    {
     "name": "stdout",
     "output_type": "stream",
     "text": [
      "(1438, 80)\n",
      "(1459, 80)\n",
      "(2897, 79)\n"
     ]
    }
   ],
   "source": [
    "print(train.shape)\n",
    "print(test.shape)\n",
    "print(all_X.shape)\n",
    "#train.head()\n",
    "#train.loc[:, 'MSSubClass':'SaleCondition']"
   ]
  },
  {
   "cell_type": "code",
   "execution_count": 4,
   "metadata": {},
   "outputs": [
    {
     "data": {
      "image/png": "[encoded data removed]",
      "text/plain": [
       "<matplotlib.figure.Figure at 0x1141b48d0>"
      ]
     },
     "metadata": {},
     "output_type": "display_data"
    }
   ],
   "source": [
    "# Outliers:\n",
    "\n",
    "fig, ax = plt.subplots()\n",
    "ax.scatter(x = train['GrLivArea'], y = train['SalePrice'])\n",
    "plt.ylabel('SalePrice', fontsize=13)\n",
    "plt.xlabel('GrLivArea', fontsize=13)\n",
    "plt.show()"
   ]
  },
  {
   "cell_type": "code",
   "execution_count": 5,
   "metadata": {},
   "outputs": [
    {
     "name": "stdout",
     "output_type": "stream",
     "text": [
      "6862\n",
      "7000\n"
     ]
    },
    {
     "data": {
      "text/plain": [
       "13862"
      ]
     },
     "execution_count": 5,
     "metadata": {},
     "output_type": "execute_result"
    }
   ],
   "source": [
    "print(train.isnull().sum().sum())\n",
    "print(test.isnull().sum().sum())\n",
    "all_X.isnull().sum().sum()"
   ]
  },
  {
   "cell_type": "code",
   "execution_count": 6,
   "metadata": {},
   "outputs": [
    {
     "data": {
      "text/html": [
       "<div>\n",
       "<style>\n",
       "    .dataframe thead tr:only-child th {\n",
       "        text-align: right;\n",
       "    }\n",
       "\n",
       "    .dataframe thead th {\n",
       "        text-align: left;\n",
       "    }\n",
       "\n",
       "    .dataframe tbody tr th {\n",
       "        vertical-align: top;\n",
       "    }\n",
       "</style>\n",
       "<table border=\"1\" class=\"dataframe\">\n",
       "  <thead>\n",
       "    <tr style=\"text-align: right;\">\n",
       "      <th></th>\n",
       "      <th>Missing Ratio</th>\n",
       "    </tr>\n",
       "  </thead>\n",
       "  <tbody>\n",
       "    <tr>\n",
       "      <th>PoolQC</th>\n",
       "      <td>99.689334</td>\n",
       "    </tr>\n",
       "    <tr>\n",
       "      <th>MiscFeature</th>\n",
       "      <td>96.651709</td>\n",
       "    </tr>\n",
       "    <tr>\n",
       "      <th>Alley</th>\n",
       "      <td>93.268899</td>\n",
       "    </tr>\n",
       "    <tr>\n",
       "      <th>Fence</th>\n",
       "      <td>80.462547</td>\n",
       "    </tr>\n",
       "    <tr>\n",
       "      <th>FireplaceQu</th>\n",
       "      <td>48.809113</td>\n",
       "    </tr>\n",
       "    <tr>\n",
       "      <th>LotFrontage</th>\n",
       "      <td>16.568864</td>\n",
       "    </tr>\n",
       "    <tr>\n",
       "      <th>GarageFinish</th>\n",
       "      <td>5.384881</td>\n",
       "    </tr>\n",
       "    <tr>\n",
       "      <th>GarageYrBlt</th>\n",
       "      <td>5.384881</td>\n",
       "    </tr>\n",
       "    <tr>\n",
       "      <th>GarageQual</th>\n",
       "      <td>5.384881</td>\n",
       "    </tr>\n",
       "    <tr>\n",
       "      <th>GarageCond</th>\n",
       "      <td>5.384881</td>\n",
       "    </tr>\n",
       "    <tr>\n",
       "      <th>GarageType</th>\n",
       "      <td>5.315844</td>\n",
       "    </tr>\n",
       "    <tr>\n",
       "      <th>BsmtExposure</th>\n",
       "      <td>2.795996</td>\n",
       "    </tr>\n",
       "    <tr>\n",
       "      <th>BsmtCond</th>\n",
       "      <td>2.795996</td>\n",
       "    </tr>\n",
       "    <tr>\n",
       "      <th>BsmtQual</th>\n",
       "      <td>2.761477</td>\n",
       "    </tr>\n",
       "    <tr>\n",
       "      <th>BsmtFinType2</th>\n",
       "      <td>2.726959</td>\n",
       "    </tr>\n",
       "    <tr>\n",
       "      <th>BsmtFinType1</th>\n",
       "      <td>2.692440</td>\n",
       "    </tr>\n",
       "    <tr>\n",
       "      <th>MasVnrType</th>\n",
       "      <td>0.828443</td>\n",
       "    </tr>\n",
       "    <tr>\n",
       "      <th>MasVnrArea</th>\n",
       "      <td>0.793925</td>\n",
       "    </tr>\n",
       "    <tr>\n",
       "      <th>MSZoning</th>\n",
       "      <td>0.138074</td>\n",
       "    </tr>\n",
       "    <tr>\n",
       "      <th>BsmtFullBath</th>\n",
       "      <td>0.069037</td>\n",
       "    </tr>\n",
       "  </tbody>\n",
       "</table>\n",
       "</div>"
      ],
      "text/plain": [
       "              Missing Ratio\n",
       "PoolQC            99.689334\n",
       "MiscFeature       96.651709\n",
       "Alley             93.268899\n",
       "Fence             80.462547\n",
       "FireplaceQu       48.809113\n",
       "LotFrontage       16.568864\n",
       "GarageFinish       5.384881\n",
       "GarageYrBlt        5.384881\n",
       "GarageQual         5.384881\n",
       "GarageCond         5.384881\n",
       "GarageType         5.315844\n",
       "BsmtExposure       2.795996\n",
       "BsmtCond           2.795996\n",
       "BsmtQual           2.761477\n",
       "BsmtFinType2       2.726959\n",
       "BsmtFinType1       2.692440\n",
       "MasVnrType         0.828443\n",
       "MasVnrArea         0.793925\n",
       "MSZoning           0.138074\n",
       "BsmtFullBath       0.069037"
      ]
     },
     "execution_count": 6,
     "metadata": {},
     "output_type": "execute_result"
    }
   ],
   "source": [
    "#Missing Data\n",
    "all_data_na = (all_X.isnull().sum() / len(all_X)) * 100\n",
    "all_data_na = all_data_na.drop(all_data_na[all_data_na == 0].index).sort_values(ascending=False)[:30]\n",
    "missing_data = pd.DataFrame({'Missing Ratio' :all_data_na})\n",
    "missing_data.head(20)"
   ]
  },
  {
   "cell_type": "code",
   "execution_count": null,
   "metadata": {
    "collapsed": true
   },
   "outputs": [],
   "source": []
  },
  {
   "cell_type": "code",
   "execution_count": 7,
   "metadata": {},
   "outputs": [
    {
     "name": "stdout",
     "output_type": "stream",
     "text": [
      "{'SalePrice'}\n"
     ]
    }
   ],
   "source": [
    "print(set(train.columns)-set(all_X.columns))"
   ]
  },
  {
   "cell_type": "code",
   "execution_count": 8,
   "metadata": {},
   "outputs": [
    {
     "name": "stdout",
     "output_type": "stream",
     "text": [
      "Index(['LotFrontage', 'LotArea', 'OverallQual', 'OverallCond', 'YearBuilt',\n",
      "       'YearRemodAdd', 'MasVnrArea', 'BsmtFinSF1', 'BsmtFinSF2', 'BsmtUnfSF',\n",
      "       'TotalBsmtSF', '1stFlrSF', '2ndFlrSF', 'LowQualFinSF', 'GrLivArea',\n",
      "       'BsmtFullBath', 'BsmtHalfBath', 'FullBath', 'HalfBath', 'BedroomAbvGr',\n",
      "       'KitchenAbvGr', 'TotRmsAbvGrd', 'Fireplaces', 'GarageYrBlt',\n",
      "       'GarageCars', 'GarageArea', 'WoodDeckSF', 'OpenPorchSF',\n",
      "       'EnclosedPorch', '3SsnPorch', 'ScreenPorch', 'PoolArea', 'MiscVal',\n",
      "       'MoSold', 'YrSold'],\n",
      "      dtype='object')\n"
     ]
    }
   ],
   "source": [
    "numeric_feats = all_X.dtypes[all_X.dtypes != \"object\"].index\n",
    "numeric_feats = numeric_feats.delete(0) #we don't want to normalize 'Id'\n",
    "print(numeric_feats)\n",
    "all_X[numeric_feats] = all_X[numeric_feats].apply(lambda x: (x - x.mean())/(x.std()))  #normalize"
   ]
  },
  {
   "cell_type": "code",
   "execution_count": 9,
   "metadata": {
    "collapsed": true
   },
   "outputs": [],
   "source": [
    "all_X = pd.get_dummies(all_X, dummy_na=True) #turn category values into numerical dummy variables\n",
    "all_X = all_X.fillna(all_X.mean()) #intersting...this seems to fill each column with local mean!"
   ]
  },
  {
   "cell_type": "code",
   "execution_count": 10,
   "metadata": {},
   "outputs": [
    {
     "name": "stdout",
     "output_type": "stream",
     "text": [
      "(2897, 329)\n",
      "1438\n"
     ]
    }
   ],
   "source": [
    "num_train = train.shape[0]\n",
    "print(all_X.shape)\n",
    "print(num_train)\n",
    "\n",
    "X_train = all_X[:num_train]\n",
    "X_test = all_X[num_train:]\n",
    "y_train = train.SalePrice"
   ]
  },
  {
   "cell_type": "code",
   "execution_count": 11,
   "metadata": {},
   "outputs": [
    {
     "data": {
      "text/html": [
       "<div>\n",
       "<style>\n",
       "    .dataframe thead tr:only-child th {\n",
       "        text-align: right;\n",
       "    }\n",
       "\n",
       "    .dataframe thead th {\n",
       "        text-align: left;\n",
       "    }\n",
       "\n",
       "    .dataframe tbody tr th {\n",
       "        vertical-align: top;\n",
       "    }\n",
       "</style>\n",
       "<table border=\"1\" class=\"dataframe\">\n",
       "  <thead>\n",
       "    <tr style=\"text-align: right;\">\n",
       "      <th></th>\n",
       "      <th>MSSubClass</th>\n",
       "      <th>LotFrontage</th>\n",
       "      <th>LotArea</th>\n",
       "      <th>OverallQual</th>\n",
       "      <th>OverallCond</th>\n",
       "      <th>YearBuilt</th>\n",
       "      <th>YearRemodAdd</th>\n",
       "      <th>MasVnrArea</th>\n",
       "      <th>BsmtFinSF1</th>\n",
       "      <th>BsmtFinSF2</th>\n",
       "      <th>...</th>\n",
       "      <th>SaleType_Oth</th>\n",
       "      <th>SaleType_WD</th>\n",
       "      <th>SaleType_nan</th>\n",
       "      <th>SaleCondition_Abnorml</th>\n",
       "      <th>SaleCondition_AdjLand</th>\n",
       "      <th>SaleCondition_Alloca</th>\n",
       "      <th>SaleCondition_Family</th>\n",
       "      <th>SaleCondition_Normal</th>\n",
       "      <th>SaleCondition_Partial</th>\n",
       "      <th>SaleCondition_nan</th>\n",
       "    </tr>\n",
       "  </thead>\n",
       "  <tbody>\n",
       "    <tr>\n",
       "      <th>0</th>\n",
       "      <td>60</td>\n",
       "      <td>-0.180815</td>\n",
       "      <td>-0.282183</td>\n",
       "      <td>0.647325</td>\n",
       "      <td>-0.508300</td>\n",
       "      <td>1.043995</td>\n",
       "      <td>0.895920</td>\n",
       "      <td>0.535942</td>\n",
       "      <td>0.602645</td>\n",
       "      <td>-0.292745</td>\n",
       "      <td>...</td>\n",
       "      <td>0</td>\n",
       "      <td>1</td>\n",
       "      <td>0</td>\n",
       "      <td>0</td>\n",
       "      <td>0</td>\n",
       "      <td>0</td>\n",
       "      <td>0</td>\n",
       "      <td>1</td>\n",
       "      <td>0</td>\n",
       "      <td>0</td>\n",
       "    </tr>\n",
       "    <tr>\n",
       "      <th>1</th>\n",
       "      <td>20</td>\n",
       "      <td>0.494936</td>\n",
       "      <td>-0.059669</td>\n",
       "      <td>-0.063285</td>\n",
       "      <td>2.187024</td>\n",
       "      <td>0.153052</td>\n",
       "      <td>-0.396388</td>\n",
       "      <td>-0.574231</td>\n",
       "      <td>1.214953</td>\n",
       "      <td>-0.292745</td>\n",
       "      <td>...</td>\n",
       "      <td>0</td>\n",
       "      <td>1</td>\n",
       "      <td>0</td>\n",
       "      <td>0</td>\n",
       "      <td>0</td>\n",
       "      <td>0</td>\n",
       "      <td>0</td>\n",
       "      <td>1</td>\n",
       "      <td>0</td>\n",
       "      <td>0</td>\n",
       "    </tr>\n",
       "    <tr>\n",
       "      <th>2</th>\n",
       "      <td>60</td>\n",
       "      <td>-0.045665</td>\n",
       "      <td>0.259591</td>\n",
       "      <td>0.647325</td>\n",
       "      <td>-0.508300</td>\n",
       "      <td>0.978000</td>\n",
       "      <td>0.848056</td>\n",
       "      <td>0.343361</td>\n",
       "      <td>0.107397</td>\n",
       "      <td>-0.292745</td>\n",
       "      <td>...</td>\n",
       "      <td>0</td>\n",
       "      <td>1</td>\n",
       "      <td>0</td>\n",
       "      <td>0</td>\n",
       "      <td>0</td>\n",
       "      <td>0</td>\n",
       "      <td>0</td>\n",
       "      <td>1</td>\n",
       "      <td>0</td>\n",
       "      <td>0</td>\n",
       "    </tr>\n",
       "    <tr>\n",
       "      <th>3</th>\n",
       "      <td>70</td>\n",
       "      <td>-0.406066</td>\n",
       "      <td>-0.069343</td>\n",
       "      <td>0.647325</td>\n",
       "      <td>-0.508300</td>\n",
       "      <td>-1.859819</td>\n",
       "      <td>-0.683567</td>\n",
       "      <td>-0.574231</td>\n",
       "      <td>-0.500409</td>\n",
       "      <td>-0.292745</td>\n",
       "      <td>...</td>\n",
       "      <td>0</td>\n",
       "      <td>1</td>\n",
       "      <td>0</td>\n",
       "      <td>1</td>\n",
       "      <td>0</td>\n",
       "      <td>0</td>\n",
       "      <td>0</td>\n",
       "      <td>0</td>\n",
       "      <td>0</td>\n",
       "      <td>0</td>\n",
       "    </tr>\n",
       "    <tr>\n",
       "      <th>4</th>\n",
       "      <td>60</td>\n",
       "      <td>0.675136</td>\n",
       "      <td>0.841999</td>\n",
       "      <td>1.357936</td>\n",
       "      <td>-0.508300</td>\n",
       "      <td>0.945002</td>\n",
       "      <td>0.752330</td>\n",
       "      <td>1.408221</td>\n",
       "      <td>0.487838</td>\n",
       "      <td>-0.292745</td>\n",
       "      <td>...</td>\n",
       "      <td>0</td>\n",
       "      <td>1</td>\n",
       "      <td>0</td>\n",
       "      <td>0</td>\n",
       "      <td>0</td>\n",
       "      <td>0</td>\n",
       "      <td>0</td>\n",
       "      <td>1</td>\n",
       "      <td>0</td>\n",
       "      <td>0</td>\n",
       "    </tr>\n",
       "  </tbody>\n",
       "</table>\n",
       "<p>5 rows × 329 columns</p>\n",
       "</div>"
      ],
      "text/plain": [
       "   MSSubClass  LotFrontage   LotArea  OverallQual  OverallCond  YearBuilt  \\\n",
       "0          60    -0.180815 -0.282183     0.647325    -0.508300   1.043995   \n",
       "1          20     0.494936 -0.059669    -0.063285     2.187024   0.153052   \n",
       "2          60    -0.045665  0.259591     0.647325    -0.508300   0.978000   \n",
       "3          70    -0.406066 -0.069343     0.647325    -0.508300  -1.859819   \n",
       "4          60     0.675136  0.841999     1.357936    -0.508300   0.945002   \n",
       "\n",
       "   YearRemodAdd  MasVnrArea  BsmtFinSF1  BsmtFinSF2        ...          \\\n",
       "0      0.895920    0.535942    0.602645   -0.292745        ...           \n",
       "1     -0.396388   -0.574231    1.214953   -0.292745        ...           \n",
       "2      0.848056    0.343361    0.107397   -0.292745        ...           \n",
       "3     -0.683567   -0.574231   -0.500409   -0.292745        ...           \n",
       "4      0.752330    1.408221    0.487838   -0.292745        ...           \n",
       "\n",
       "   SaleType_Oth  SaleType_WD  SaleType_nan  SaleCondition_Abnorml  \\\n",
       "0             0            1             0                      0   \n",
       "1             0            1             0                      0   \n",
       "2             0            1             0                      0   \n",
       "3             0            1             0                      1   \n",
       "4             0            1             0                      0   \n",
       "\n",
       "   SaleCondition_AdjLand  SaleCondition_Alloca  SaleCondition_Family  \\\n",
       "0                      0                     0                     0   \n",
       "1                      0                     0                     0   \n",
       "2                      0                     0                     0   \n",
       "3                      0                     0                     0   \n",
       "4                      0                     0                     0   \n",
       "\n",
       "   SaleCondition_Normal  SaleCondition_Partial  SaleCondition_nan  \n",
       "0                     1                      0                  0  \n",
       "1                     1                      0                  0  \n",
       "2                     1                      0                  0  \n",
       "3                     0                      0                  0  \n",
       "4                     1                      0                  0  \n",
       "\n",
       "[5 rows x 329 columns]"
      ]
     },
     "execution_count": 11,
     "metadata": {},
     "output_type": "execute_result"
    }
   ],
   "source": [
    "X_train.head()"
   ]
  },
  {
   "cell_type": "code",
   "execution_count": 12,
   "metadata": {},
   "outputs": [
    {
     "name": "stderr",
     "output_type": "stream",
     "text": [
      "/anaconda/envs/py36/lib/python3.6/site-packages/sklearn/cross_validation.py:41: DeprecationWarning: This module was deprecated in version 0.18 in favor of the model_selection module into which all the refactored classes and functions are moved. Also note that the interface of the new CV iterators are different from that of this module. This module will be removed in 0.20.\n",
      "  \"This module will be removed in 0.20.\", DeprecationWarning)\n",
      "/anaconda/envs/py36/lib/python3.6/site-packages/sklearn/grid_search.py:42: DeprecationWarning: This module was deprecated in version 0.18 in favor of the model_selection module into which all the refactored classes and functions are moved. This module will be removed in 0.20.\n",
      "  DeprecationWarning)\n"
     ]
    }
   ],
   "source": [
    "import xgboost as xgb\n",
    "from xgboost.sklearn import XGBRegressor\n",
    "from sklearn import cross_validation, metrics   #Additional scklearn functions\n",
    "from sklearn.grid_search import GridSearchCV   #Perforing grid search\n",
    "\n",
    "import matplotlib.pylab as plt\n",
    "%matplotlib inline\n",
    "from matplotlib.pylab import rcParams"
   ]
  },
  {
   "cell_type": "code",
   "execution_count": 66,
   "metadata": {},
   "outputs": [
    {
     "name": "stdout",
     "output_type": "stream",
     "text": [
      "Fitting 6 folds for each of 96 candidates, totalling 576 fits\n"
     ]
    },
    {
     "name": "stderr",
     "output_type": "stream",
     "text": [
      "[Parallel(n_jobs=5)]: Done  40 tasks      | elapsed:  1.6min\n",
      "[Parallel(n_jobs=5)]: Done 190 tasks      | elapsed:  8.8min\n",
      "[Parallel(n_jobs=5)]: Done 440 tasks      | elapsed: 26.2min\n",
      "[Parallel(n_jobs=5)]: Done 576 out of 576 | elapsed: 37.7min finished\n"
     ]
    },
    {
     "name": "stdout",
     "output_type": "stream",
     "text": [
      "-0.012912462627403117\n",
      "{'colsample_bytree': 0.4603, 'gamma': 0.0468, 'learning_rate': 0.05, 'max_depth': 4, 'min_child_weight': 1.7817, 'n_estimators': 2000, 'nthread': 4, 'reg_lambda': 0.5, 'subsample': 0.6}\n"
     ]
    }
   ],
   "source": [
    "#0.8868420123494959\n",
    "#0.8968647628534084: 0.7, 0.05, 4, 4, 500, 4, 0.9\n",
    "#0.8910963660516958: 0.6, 0.02, 4, 2, 500, 4, 0.9\n",
    "#0.8975841883827453: 0.6, 0.07, 4, 3, 500, 4, 0.9\n",
    "#0.8978099332543218: 0.6, 0.07, 4, 3, 800, 4, 0.9\n",
    "#0.89517373352938: \n",
    "#{'colsample_bylevel': 0.45, 'colsample_bytree': 0.4, 'gamma': 0.2, 'learning_rate': 0.11, \n",
    "#'max_depth': 5, 'min_child_weight': 3, 'n_estimators': 450, 'nthread': 4, 'subsample': 0.9}\n",
    "#0.8983620861605427: *\n",
    "#{'colsample_bylevel': 0.5, 'colsample_bytree': 0.4, 'gamma': 0.2, 'learning_rate': 0.12, \n",
    "#'max_depth': 4, 'min_child_weight': 4, 'n_estimators': 400, 'nthread': 4, 'subsample': 1}\n",
    "#0.8931925480725393: \n",
    "#{'colsample_bylevel': 0.45, 'colsample_bytree': 0.4, 'gamma': 0.2, 'learning_rate': 0.11, \n",
    "#'max_depth': 5, 'min_child_weight': 3, 'n_estimators': 500, 'nthread': 4, 'subsample': 0.6} Kaggle: 0.13113\n",
    "#0.8924819901913437:\n",
    "#{'colsample_bylevel': 0.39, 'colsample_bytree': 0.45, 'gamma': 0.2, 'learning_rate': 0.11, \n",
    "#'max_depth': 4, 'min_child_weight': 3, 'n_estimators': 500, 'nthread': 4, 'subsample': 0.5} Kaggle: 0.13353\n",
    "#0.8929348579101778:\n",
    "# {'colsample_bylevel': 0.38, 'colsample_bytree': 0.45, 'gamma': 0.2, 'learning_rate': 0.11, \n",
    "#'max_depth': 4, 'min_child_weight': 3, 'n_estimators': 500, 'nthread': 4, 'subsample': 0.5} Kaggle: 0.12817 *\n",
    "#0.9221654742823935 *** wow~~~ data cleaning is cool\n",
    "#{'colsample_bylevel': 0.38, 'colsample_bytree': 0.44, 'gamma': 0.2, 'learning_rate': 0.11, \n",
    "#'max_depth': 4, 'min_child_weight': 4, 'n_estimators': 500, 'nthread': 4, 'subsample': 0.5} Kaggle: 0.12956\n",
    "#0.9250354346774026\n",
    "#{'colsample_bylevel': 0.37, 'colsample_bytree': 0.44, 'gamma': 0.2, 'learning_rate': 0.02, \n",
    "#'max_depth': 4, 'min_child_weight': 4, 'n_estimators': 500, 'nthread': 4, 'subsample': 0.6} Kaggle: 0.12944\n",
    "#0.9266559257543039\n",
    "# {'colsample_bytree': 0.85, 'gamma': 0.3, 'learning_rate': 0.05, 'max_depth': 4, \n",
    "# 'min_child_weight': 5, 'n_estimators': 500, 'nthread': 4, 'subsample': 0.6} Kaggle: 0.12677 **\n",
    "\n",
    "xgb1 = XGBRegressor()\n",
    "#target = 'SalePrice'\n",
    "#IDcol = 'Id'\n",
    "#predictors = [x for x in train_df_use.columns if x not in [target, IDcol]]\n",
    "parameters = {'nthread':[4], #when use hyperthread, xgboost may become slower\n",
    "              'gamma': [0.0468, 0.1],\n",
    "              #Gamma specifies the minimum loss reduction required to make a split.\n",
    "              'learning_rate': [0.05],\n",
    "              #Makes the model more robust by shrinking the weights on each step0.01-0.2\n",
    "              'max_depth': [3, 4],\n",
    "              #The maximum depth of a tree. high->over fit\n",
    "              'min_child_weight': [1.7817, 3, 5],\n",
    "              #Defines the minimum sum of weights of all observations required in a child. high->under fit\n",
    "              'reg_lambda': [0.8571, 0.5], #reg_alpha=0.4640\n",
    "              'subsample': [0.5213,0.6], #Subsample ratio of the training instance. 0.5-1\n",
    "              'colsample_bytree': [0.4603, 0.85],\n",
    "              #Denotes the fraction of columns to be randomly samples for each tree. 0.5-1\n",
    "              #'colsample_bylevel': [0.3, 0.5, 0.7],\n",
    "              #Denotes the subsample ratio of columns for each split, in each level.\n",
    "              'n_estimators': [2000]#wow..high estimator helps but runs really slow!\n",
    "             }\n",
    "\n",
    "xgb_grid = GridSearchCV(xgb1,\n",
    "                        parameters,\n",
    "                        scoring='neg_mean_squared_log_error',\n",
    "                        cv = 6,\n",
    "                        n_jobs = 5,\n",
    "                        verbose=True)\n",
    "\n",
    "xgb_grid.fit(X_train,y_train)\n",
    "print(xgb_grid.best_score_)\n",
    "print(xgb_grid.best_params_)\n",
    "\n",
    "#changed to log rsme scoring function:\n",
    "#-0.013984208220288816: {'colsample_bytree': 0.85, 'gamma': 0.3, 'learning_rate': 0.05, 'max_depth': 4, \n",
    "#'min_child_weight': 5, 'n_estimators': 500, 'nthread': 4, 'subsample': 0.6} Kaggle: 0.12677\n",
    "#-0.012912462627403117: {'colsample_bytree': 0.4603, 'gamma': 0.0468, 'learning_rate': 0.05, 'max_depth': 4, \n",
    "#'min_child_weight': 1.7817, 'n_estimators': 2000, 'nthread': 4, 'reg_lambda': 0.5, 'subsample': 0.6} Kaggle: 0.12567**\n",
    "\n",
    "\n",
    "\n",
    "\n"
   ]
  },
  {
   "cell_type": "code",
   "execution_count": 14,
   "metadata": {
    "collapsed": true
   },
   "outputs": [],
   "source": [
    "xgb_best = xgb_grid.best_estimator_"
   ]
  },
  {
   "cell_type": "code",
   "execution_count": 49,
   "metadata": {},
   "outputs": [
    {
     "data": {
      "text/plain": [
       "array([20343.077243  , 20191.08420986, 26010.19189237, 17844.21085278,\n",
       "       22005.85053159])"
      ]
     },
     "execution_count": 49,
     "metadata": {},
     "output_type": "execute_result"
    }
   ],
   "source": [
    "# #xgb_best.feature_importances_\n",
    "# from sklearn.model_selection import KFold, cross_val_score\n",
    "# n_folds = 5\n",
    "# def rmsle_cv(model):\n",
    "#     kf = KFold(n_folds, shuffle=True, random_state=42).get_n_splits(train.values)\n",
    "#     rmse= np.sqrt(-cross_val_score(model, X_train.values, y_train, scoring=\"neg_mean_squared_error\", cv = kf))\n",
    "#     return(rmse)\n",
    "\n",
    "# model_xgb = xgb.XGBRegressor(colsample_bytree=0.4603, gamma=0.0468, \n",
    "#                              learning_rate=0.05, max_depth=3, \n",
    "#                              min_child_weight=1.7817, n_estimators=2200,\n",
    "#                              reg_alpha=0.4640, reg_lambda=0.8571,\n",
    "#                              subsample=0.5213, silent=1,\n",
    "#                              random_state =7, nthread = -1)\n",
    "# rmsle_cv(model_xgb)"
   ]
  },
  {
   "cell_type": "code",
   "execution_count": 51,
   "metadata": {
    "collapsed": true
   },
   "outputs": [],
   "source": [
    "model_xgb.fit(X_train,y_train)"
   ]
  },
  {
   "cell_type": "code",
   "execution_count": 56,
   "metadata": {},
   "outputs": [
    {
     "name": "stdout",
     "output_type": "stream",
     "text": [
      "3418.0114794738497\n"
     ]
    }
   ],
   "source": [
    "from sklearn.metrics import mean_squared_error\n",
    "from math import sqrt\n",
    "pred_model = model_xgb.predict(X_train)\n",
    "rms = sqrt(mean_squared_error(y_train, pred_model))\n",
    "print(rms)"
   ]
  },
  {
   "cell_type": "code",
   "execution_count": null,
   "metadata": {
    "collapsed": true
   },
   "outputs": [],
   "source": []
  },
  {
   "cell_type": "code",
   "execution_count": 16,
   "metadata": {},
   "outputs": [
    {
     "name": "stdout",
     "output_type": "stream",
     "text": [
      "<class 'list'>\n"
     ]
    },
    {
     "data": {
      "text/plain": [
       "mean: 0.91883, std: 0.00318, params: {'colsample_bylevel': 0.38, 'colsample_bytree': 0.44, 'gamma': 0.2, 'learning_rate': 0.11, 'max_depth': 4, 'min_child_weight': 3, 'n_estimators': 500, 'nthread': 4, 'subsample': 0.5}"
      ]
     },
     "execution_count": 16,
     "metadata": {},
     "output_type": "execute_result"
    }
   ],
   "source": [
    "print(type(xgb_grid.grid_scores_))\n",
    "#result = pd.DataFrame(xgb_grid.grid_scores_, columns=[])\n",
    "#group_lr = result.groupby(['learning_rate'])\n",
    "xgb_grid.grid_scores_[0]"
   ]
  },
  {
   "cell_type": "code",
   "execution_count": null,
   "metadata": {
    "collapsed": true
   },
   "outputs": [],
   "source": []
  },
  {
   "cell_type": "code",
   "execution_count": 17,
   "metadata": {},
   "outputs": [
    {
     "name": "stdout",
     "output_type": "stream",
     "text": [
      "<class 'sklearn.grid_search._CVScoreTuple'>\n"
     ]
    },
    {
     "data": {
      "text/plain": [
       "({'colsample_bylevel': 0.38,\n",
       "  'colsample_bytree': 0.44,\n",
       "  'gamma': 0.2,\n",
       "  'learning_rate': 0.11,\n",
       "  'max_depth': 4,\n",
       "  'min_child_weight': 3,\n",
       "  'n_estimators': 500,\n",
       "  'nthread': 4,\n",
       "  'subsample': 0.5},\n",
       " 0.9188313494464737,\n",
       " array([0.92423985, 0.91613812, 0.91787463, 0.91706523]))"
      ]
     },
     "execution_count": 17,
     "metadata": {},
     "output_type": "execute_result"
    }
   ],
   "source": [
    "print(type(xgb_grid.grid_scores_[0]))\n",
    "xgb_grid.grid_scores_[0][:]"
   ]
  },
  {
   "cell_type": "code",
   "execution_count": 18,
   "metadata": {},
   "outputs": [
    {
     "name": "stdout",
     "output_type": "stream",
     "text": [
      "72\n"
     ]
    }
   ],
   "source": [
    "t = [1,2,3]\n",
    "t.pop(0)\n",
    "print(len(xgb_grid.grid_scores_))"
   ]
  },
  {
   "cell_type": "code",
   "execution_count": 19,
   "metadata": {},
   "outputs": [
    {
     "data": {
      "text/html": [
       "<div>\n",
       "<style>\n",
       "    .dataframe thead tr:only-child th {\n",
       "        text-align: right;\n",
       "    }\n",
       "\n",
       "    .dataframe thead th {\n",
       "        text-align: left;\n",
       "    }\n",
       "\n",
       "    .dataframe tbody tr th {\n",
       "        vertical-align: top;\n",
       "    }\n",
       "</style>\n",
       "<table border=\"1\" class=\"dataframe\">\n",
       "  <thead>\n",
       "    <tr style=\"text-align: right;\">\n",
       "      <th></th>\n",
       "      <th>colsample_bylevel</th>\n",
       "      <th>colsample_bytree</th>\n",
       "      <th>gamma</th>\n",
       "      <th>learning_rate</th>\n",
       "      <th>max_depth</th>\n",
       "      <th>min_child_weight</th>\n",
       "      <th>n_estimators</th>\n",
       "      <th>nthread</th>\n",
       "      <th>score</th>\n",
       "      <th>subsample</th>\n",
       "    </tr>\n",
       "  </thead>\n",
       "  <tbody>\n",
       "    <tr>\n",
       "      <th>0</th>\n",
       "      <td>0.38</td>\n",
       "      <td>0.44</td>\n",
       "      <td>0.2</td>\n",
       "      <td>0.11</td>\n",
       "      <td>4</td>\n",
       "      <td>3</td>\n",
       "      <td>500</td>\n",
       "      <td>4</td>\n",
       "      <td>0.918831</td>\n",
       "      <td>0.5</td>\n",
       "    </tr>\n",
       "    <tr>\n",
       "      <th>1</th>\n",
       "      <td>0.38</td>\n",
       "      <td>0.44</td>\n",
       "      <td>0.2</td>\n",
       "      <td>0.11</td>\n",
       "      <td>4</td>\n",
       "      <td>4</td>\n",
       "      <td>500</td>\n",
       "      <td>4</td>\n",
       "      <td>0.922165</td>\n",
       "      <td>0.5</td>\n",
       "    </tr>\n",
       "    <tr>\n",
       "      <th>2</th>\n",
       "      <td>0.38</td>\n",
       "      <td>0.44</td>\n",
       "      <td>0.2</td>\n",
       "      <td>0.11</td>\n",
       "      <td>5</td>\n",
       "      <td>3</td>\n",
       "      <td>500</td>\n",
       "      <td>4</td>\n",
       "      <td>0.918453</td>\n",
       "      <td>0.5</td>\n",
       "    </tr>\n",
       "    <tr>\n",
       "      <th>3</th>\n",
       "      <td>0.38</td>\n",
       "      <td>0.44</td>\n",
       "      <td>0.2</td>\n",
       "      <td>0.11</td>\n",
       "      <td>5</td>\n",
       "      <td>4</td>\n",
       "      <td>500</td>\n",
       "      <td>4</td>\n",
       "      <td>0.920345</td>\n",
       "      <td>0.5</td>\n",
       "    </tr>\n",
       "    <tr>\n",
       "      <th>4</th>\n",
       "      <td>0.38</td>\n",
       "      <td>0.44</td>\n",
       "      <td>0.2</td>\n",
       "      <td>0.12</td>\n",
       "      <td>4</td>\n",
       "      <td>3</td>\n",
       "      <td>500</td>\n",
       "      <td>4</td>\n",
       "      <td>0.918097</td>\n",
       "      <td>0.5</td>\n",
       "    </tr>\n",
       "  </tbody>\n",
       "</table>\n",
       "</div>"
      ],
      "text/plain": [
       "   colsample_bylevel  colsample_bytree  gamma  learning_rate  max_depth  \\\n",
       "0               0.38              0.44    0.2           0.11          4   \n",
       "1               0.38              0.44    0.2           0.11          4   \n",
       "2               0.38              0.44    0.2           0.11          5   \n",
       "3               0.38              0.44    0.2           0.11          5   \n",
       "4               0.38              0.44    0.2           0.12          4   \n",
       "\n",
       "   min_child_weight  n_estimators  nthread     score  subsample  \n",
       "0                 3           500        4  0.918831        0.5  \n",
       "1                 4           500        4  0.922165        0.5  \n",
       "2                 3           500        4  0.918453        0.5  \n",
       "3                 4           500        4  0.920345        0.5  \n",
       "4                 3           500        4  0.918097        0.5  "
      ]
     },
     "execution_count": 19,
     "metadata": {},
     "output_type": "execute_result"
    }
   ],
   "source": [
    "#turn grid CVScoreTuple into a dataframe\n",
    "\n",
    "meat = []\n",
    "target = xgb_grid.grid_scores_\n",
    "for i in range(len(target)):\n",
    "    tmp = target[i]\n",
    "    dic = tmp[0]\n",
    "    score = tmp[1]\n",
    "    dic['score'] = score\n",
    "    meat.append(dic)\n",
    "result = pd.DataFrame(meat)    \n",
    "result.head()"
   ]
  },
  {
   "cell_type": "code",
   "execution_count": 20,
   "metadata": {},
   "outputs": [
    {
     "data": {
      "text/html": [
       "<div>\n",
       "<style>\n",
       "    .dataframe thead tr:only-child th {\n",
       "        text-align: right;\n",
       "    }\n",
       "\n",
       "    .dataframe thead th {\n",
       "        text-align: left;\n",
       "    }\n",
       "\n",
       "    .dataframe tbody tr th {\n",
       "        vertical-align: top;\n",
       "    }\n",
       "</style>\n",
       "<table border=\"1\" class=\"dataframe\">\n",
       "  <thead>\n",
       "    <tr style=\"text-align: right;\">\n",
       "      <th></th>\n",
       "      <th>colsample_bylevel</th>\n",
       "      <th>colsample_bytree</th>\n",
       "      <th>gamma</th>\n",
       "      <th>learning_rate</th>\n",
       "      <th>max_depth</th>\n",
       "      <th>min_child_weight</th>\n",
       "      <th>n_estimators</th>\n",
       "      <th>nthread</th>\n",
       "      <th>score</th>\n",
       "      <th>subsample</th>\n",
       "    </tr>\n",
       "  </thead>\n",
       "  <tbody>\n",
       "  </tbody>\n",
       "</table>\n",
       "</div>"
      ],
      "text/plain": [
       "Empty DataFrame\n",
       "Columns: [colsample_bylevel, colsample_bytree, gamma, learning_rate, max_depth, min_child_weight, n_estimators, nthread, score, subsample]\n",
       "Index: []"
      ]
     },
     "execution_count": 20,
     "metadata": {},
     "output_type": "execute_result"
    }
   ],
   "source": [
    "result[result.learning_rate == 0.02].sort_values(by=['score'],ascending=False)"
   ]
  },
  {
   "cell_type": "code",
   "execution_count": null,
   "metadata": {
    "collapsed": true
   },
   "outputs": [],
   "source": []
  },
  {
   "cell_type": "code",
   "execution_count": 67,
   "metadata": {},
   "outputs": [
    {
     "name": "stdout",
     "output_type": "stream",
     "text": [
      "generating submission file\n"
     ]
    },
    {
     "data": {
      "text/html": [
       "<div>\n",
       "<style>\n",
       "    .dataframe thead tr:only-child th {\n",
       "        text-align: right;\n",
       "    }\n",
       "\n",
       "    .dataframe thead th {\n",
       "        text-align: left;\n",
       "    }\n",
       "\n",
       "    .dataframe tbody tr th {\n",
       "        vertical-align: top;\n",
       "    }\n",
       "</style>\n",
       "<table border=\"1\" class=\"dataframe\">\n",
       "  <thead>\n",
       "    <tr style=\"text-align: right;\">\n",
       "      <th></th>\n",
       "      <th>Id</th>\n",
       "      <th>SalePrice</th>\n",
       "    </tr>\n",
       "  </thead>\n",
       "  <tbody>\n",
       "    <tr>\n",
       "      <th>0</th>\n",
       "      <td>1461</td>\n",
       "      <td>122235.820312</td>\n",
       "    </tr>\n",
       "    <tr>\n",
       "      <th>1</th>\n",
       "      <td>1462</td>\n",
       "      <td>165595.578125</td>\n",
       "    </tr>\n",
       "    <tr>\n",
       "      <th>2</th>\n",
       "      <td>1463</td>\n",
       "      <td>196760.984375</td>\n",
       "    </tr>\n",
       "    <tr>\n",
       "      <th>3</th>\n",
       "      <td>1464</td>\n",
       "      <td>197718.062500</td>\n",
       "    </tr>\n",
       "    <tr>\n",
       "      <th>4</th>\n",
       "      <td>1465</td>\n",
       "      <td>180769.343750</td>\n",
       "    </tr>\n",
       "  </tbody>\n",
       "</table>\n",
       "</div>"
      ],
      "text/plain": [
       "     Id      SalePrice\n",
       "0  1461  122235.820312\n",
       "1  1462  165595.578125\n",
       "2  1463  196760.984375\n",
       "3  1464  197718.062500\n",
       "4  1465  180769.343750"
      ]
     },
     "execution_count": 67,
     "metadata": {},
     "output_type": "execute_result"
    }
   ],
   "source": [
    "print(\"generating submission file\")\n",
    "predict = xgb_grid.best_estimator_.predict(X_test)\n",
    "type(predict)\n",
    "test['SalePrice'] = pd.Series(predict.reshape(1, -1)[0])\n",
    "submission = pd.concat([test['Id'], test['SalePrice']], axis=1)\n",
    "submission.to_csv('submission1.csv', index=False)\n",
    "submission.head()"
   ]
  },
  {
   "cell_type": "code",
   "execution_count": null,
   "metadata": {
    "collapsed": true
   },
   "outputs": [],
   "source": []
  },
  {
   "cell_type": "code",
   "execution_count": 22,
   "metadata": {
    "collapsed": true
   },
   "outputs": [],
   "source": [
    "\n",
    "\n",
    "#print(train.columns)\n",
    "#print(test.columns)\n",
    "#print(set(train.columns) - set(test.columns))\n",
    "#train.info()"
   ]
  },
  {
   "cell_type": "code",
   "execution_count": 23,
   "metadata": {
    "collapsed": true
   },
   "outputs": [],
   "source": [
    "#train_df = train.copy()\n",
    "#test_df = test.copy()\n",
    "#train_df = pd.get_dummies(train_df, dummy_na=True)\n",
    "#test_df = pd.get_dummies(test_df, dummy_na=True)\n",
    "#train_df.info()"
   ]
  },
  {
   "cell_type": "code",
   "execution_count": 24,
   "metadata": {
    "collapsed": true
   },
   "outputs": [],
   "source": [
    "#print(set(train.columns) - set(train_df.columns))\n",
    "#print(train_df.shape, test_df.shape)"
   ]
  },
  {
   "cell_type": "code",
   "execution_count": 25,
   "metadata": {
    "collapsed": true
   },
   "outputs": [],
   "source": [
    "# #print(train_df.shape)\n",
    "# print(train_df.columns)\n",
    "# print(set(train.columns) < set(train_df.columns))\n",
    "# train_df.head()"
   ]
  },
  {
   "cell_type": "code",
   "execution_count": 26,
   "metadata": {
    "collapsed": true
   },
   "outputs": [],
   "source": [
    "# print(numeric_feats)\n",
    "# test_df.head()"
   ]
  },
  {
   "cell_type": "code",
   "execution_count": 27,
   "metadata": {
    "collapsed": true
   },
   "outputs": [],
   "source": [
    "# #numeric_feats = all_X.dtypes[all_X.dtypes != \"object\"].index\n",
    "# numeric_feats = train_df.dtypes[train_df.dtypes != \"object\"].index\n",
    "# #print(type(numeric_feats))\n",
    "# numeric_feats = numeric_feats.delete(0) #we don't want to normalize 'Id'\n",
    "# #print(numeric_feats)\n",
    "# train_df[numeric_feats] = train_df[numeric_feats].apply(lambda x: (x - x.mean())/(x.std()))  #normalize\n",
    "# test_df[numeric_feats] = test_df[numeric_feats].apply(lambda x: (x - x.mean())/(x.std()))  #normalize"
   ]
  },
  {
   "cell_type": "code",
   "execution_count": 28,
   "metadata": {
    "collapsed": true
   },
   "outputs": [],
   "source": [
    "# #all_X = pd.get_dummies(all_X, dummy_na=True) #turn category values into numerical dummy variables\n",
    "# #all_X = all_X.fillna(all_X.mean()) #intersting...this seems to fill each column with local mean!\n",
    "# #print(all_X.mean())\n",
    "# train_df.head()"
   ]
  },
  {
   "cell_type": "code",
   "execution_count": 29,
   "metadata": {
    "collapsed": true
   },
   "outputs": [],
   "source": [
    "# string_feats = [x for x in train.columns if x not in numeric_feats]"
   ]
  },
  {
   "cell_type": "code",
   "execution_count": 30,
   "metadata": {
    "collapsed": true
   },
   "outputs": [],
   "source": [
    "# print(string_feats)\n",
    "# print('\\n',numeric_feats)\n",
    "# print(len(string_feats),len(numeric_feats),len(train.columns))"
   ]
  },
  {
   "cell_type": "code",
   "execution_count": 31,
   "metadata": {
    "collapsed": true
   },
   "outputs": [],
   "source": [
    "# #train_df.isnull().sum()\n",
    "# train_df = train_df.fillna(train_df.mean()) #intersting...this seems to fill each column with local mean!\n",
    "# test_df = test_df.fillna(train_df.mean())\n",
    "# #print(train_df.isnull().sum())\n",
    "# train_df.head()"
   ]
  },
  {
   "cell_type": "code",
   "execution_count": 32,
   "metadata": {
    "collapsed": true
   },
   "outputs": [],
   "source": [
    "# #finding the column name where the whole column is NaN\n",
    "\n",
    "# #[x for x in train_df.columns if train_df.isnull().any() == True]\n",
    "# type(train_df.isnull().any())\n",
    "# train_df.isnull().any().index\n",
    "# train_df.isnull().all()[train_df.isnull().all() == True]"
   ]
  },
  {
   "cell_type": "code",
   "execution_count": 33,
   "metadata": {
    "collapsed": true
   },
   "outputs": [],
   "source": [
    "# print(type(numeric_feats))\n",
    "# print(type(all_NA_feats))\n",
    "# print(len(all_NA_feats))\n",
    "# print(len(train_df.columns))"
   ]
  },
  {
   "cell_type": "code",
   "execution_count": 34,
   "metadata": {
    "collapsed": true
   },
   "outputs": [],
   "source": [
    "# all_NA_feats = train_df.isnull().all()[train_df.isnull().all() == True].index\n",
    "# Good_feats = [x for x in train_df.columns if x not in all_NA_feats]\n",
    "# #print(tmp)\n",
    "# #[x for x in train.columns if x not in numeric_feats]"
   ]
  },
  {
   "cell_type": "code",
   "execution_count": 35,
   "metadata": {
    "collapsed": true
   },
   "outputs": [],
   "source": [
    "# print(type(train_df.isnull()))\n",
    "# print(train_df[train_df.isnull()].columns)"
   ]
  },
  {
   "cell_type": "code",
   "execution_count": 36,
   "metadata": {
    "collapsed": true
   },
   "outputs": [],
   "source": [
    "# train_df_use = train_df.drop(all_NA_feats,1)\n",
    "# test_df_use = test_df.drop(all_NA_feats,1)\n",
    "# ##num_train = train.shape[0]\n",
    "# #X_train = all_X[:num_train]\n",
    "# #X_test = all_X[num_train:]\n",
    "# #y_train = train.SalePrice\n",
    "# train_df_use.info()\n",
    "# train_df_use.describe()"
   ]
  },
  {
   "cell_type": "code",
   "execution_count": null,
   "metadata": {
    "collapsed": true
   },
   "outputs": [],
   "source": []
  },
  {
   "cell_type": "code",
   "execution_count": null,
   "metadata": {
    "collapsed": true
   },
   "outputs": [],
   "source": []
  },
  {
   "cell_type": "code",
   "execution_count": null,
   "metadata": {
    "collapsed": true
   },
   "outputs": [],
   "source": []
  },
  {
   "cell_type": "code",
   "execution_count": null,
   "metadata": {
    "collapsed": true
   },
   "outputs": [],
   "source": []
  },
  {
   "cell_type": "code",
   "execution_count": null,
   "metadata": {
    "collapsed": true
   },
   "outputs": [],
   "source": []
  }
 ],
 "metadata": {
  "kernelspec": {
   "display_name": "Python 3",
   "language": "python",
   "name": "python3"
  },
  "language_info": {
   "codemirror_mode": {
    "name": "ipython",
    "version": 3
   },
   "file_extension": ".py",
   "mimetype": "text/x-python",
   "name": "python",
   "nbconvert_exporter": "python",
   "pygments_lexer": "ipython3",
   "version": "3.6.1"
  }
 },
 "nbformat": 4,
 "nbformat_minor": 2
}
